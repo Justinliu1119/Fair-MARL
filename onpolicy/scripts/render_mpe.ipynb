{
 "cells": [
  {
   "cell_type": "markdown",
   "metadata": {},
   "source": [
    "# MPE Evaluation\n",
    "\n",
    "This runs the trained MAPPO policy for goal navigation."
   ]
  },
  {
   "cell_type": "code",
   "execution_count": 1,
   "metadata": {},
   "outputs": [],
   "source": [
    "import sys\n",
    "import os\n",
    "\n",
    "project_root = \"/Users/yaoliu/Desktop/Fair-MARL\"\n",
    "if project_root not in sys.path:\n",
    "    sys.path.append(project_root)"
   ]
  },
  {
   "cell_type": "code",
   "execution_count": 2,
   "metadata": {},
   "outputs": [],
   "source": [
    "model_dir = os.path.join(\n",
    "    project_root,\n",
    "    \"onpolicy/results/GraphMPE/nav_fairassign_nofairrew_formation_graph/rmappo/test123/wandb/run-20250725_001808-2ur8kb5w/files\"\n",
    ")"
   ]
  },
  {
   "cell_type": "markdown",
   "metadata": {},
   "source": [
    "## Configuration"
   ]
  },
  {
   "cell_type": "code",
   "execution_count": 3,
   "metadata": {},
   "outputs": [],
   "source": [
    "from onpolicy.scripts.eval_mpe import main\n",
    "notebook_args = [\n",
    "    \"--env_name\", \"GraphMPE\",\n",
    "    \"--scenario_name\", \"nav_fairassign_nofairrew_formation_graph\",\n",
    "    \"--algorithm_name\", \"rmappo\",\n",
    "    \"--model_dir\", model_dir,\n",
    "    \"--assignment_type\", \"fair\",\n",
    "    \"--use_fairness_reward\",\n",
    "    \"--num_agents\", \"2\",\n",
    "    \"--num_landmarks\", \"2\",\n",
    "    \"--num_obstacles\", \"2\",\n",
    "    \"--world_size\", \"3\",\n",
    "    \"--episode_length\", \"500\",\n",
    "    \"--render_episodes\", \"5\",\n",
    "    \"--save_gifs\",\n",
    "    \"--use_render\"\n",
    "]\n",
    "\n"
   ]
  },
  {
   "cell_type": "code",
   "execution_count": 4,
   "metadata": {},
   "outputs": [
    {
     "name": "stdout",
     "output_type": "stream",
     "text": [
      "__________________________________________________\n",
      "Using fair_rew = 1\n",
      "Using min_obs_dist = 0.5\n",
      "Using model_name = FA_FR\n",
      "Using seed = 1\n",
      "Using world_size = 3.0\n",
      "Using max_edge_dist = 1\n",
      "Using num_walls = 0\n",
      "Using episode_length = 500\n",
      "Using save_gifs = True\n",
      "Using use_render = True\n",
      "Using render_episodes = 5\n",
      "Using model_dir = /Users/yaoliu/Desktop/Fair-MARL/onpolicy/results/GraphMPE/nav_fairassign_nofairrew_formation_graph/rmappo/test123/wandb/run-20250725_001808-2ur8kb5w/files\n",
      "Using scenario_name = nav_fairassign_nofairrew_formation_graph\n",
      "Using num_landmarks = 2\n",
      "Using num_agents = 2\n",
      "Using num_obstacles = 2\n",
      "Using collaborative = False\n",
      "Using goal_rew = 20\n",
      "Using min_dist_thresh = 0.05\n",
      "Using use_dones = True\n",
      "__________________________________________________\n"
     ]
    },
    {
     "ename": "AttributeError",
     "evalue": "'Namespace' object has no attribute 'num_agent_types'",
     "output_type": "error",
     "traceback": [
      "\u001b[0;31m---------------------------------------------------------------------------\u001b[0m",
      "\u001b[0;31mAttributeError\u001b[0m                            Traceback (most recent call last)",
      "Cell \u001b[0;32mIn[4], line 1\u001b[0m\n\u001b[0;32m----> 1\u001b[0m \u001b[43mmain\u001b[49m\u001b[43m(\u001b[49m\u001b[43mnotebook_args\u001b[49m\u001b[43m)\u001b[49m\n",
      "File \u001b[0;32m~/Desktop/Fair-MARL/onpolicy/scripts/eval_mpe.py:144\u001b[0m, in \u001b[0;36mmain\u001b[0;34m(args)\u001b[0m\n\u001b[1;32m    141\u001b[0m np\u001b[38;5;241m.\u001b[39mrandom\u001b[38;5;241m.\u001b[39mseed(all_args\u001b[38;5;241m.\u001b[39mseed)\n\u001b[1;32m    143\u001b[0m \u001b[38;5;66;03m# env init\u001b[39;00m\n\u001b[0;32m--> 144\u001b[0m envs \u001b[38;5;241m=\u001b[39m \u001b[43mmake_render_env\u001b[49m\u001b[43m(\u001b[49m\u001b[43mall_args\u001b[49m\u001b[43m)\u001b[49m\n\u001b[1;32m    145\u001b[0m all_args\u001b[38;5;241m.\u001b[39mobs_shape \u001b[38;5;241m=\u001b[39m envs\u001b[38;5;241m.\u001b[39mobservation_space[\u001b[38;5;241m0\u001b[39m]\u001b[38;5;241m.\u001b[39mshape[\u001b[38;5;241m0\u001b[39m]\n\u001b[1;32m    146\u001b[0m \u001b[38;5;28mprint\u001b[39m(\u001b[38;5;124m\"\u001b[39m\u001b[38;5;124m[DEBUG] Inferred obs_shape from environment:\u001b[39m\u001b[38;5;124m\"\u001b[39m, all_args\u001b[38;5;241m.\u001b[39mobs_shape)\n",
      "File \u001b[0;32m~/Desktop/Fair-MARL/onpolicy/scripts/eval_mpe.py:35\u001b[0m, in \u001b[0;36mmake_render_env\u001b[0;34m(all_args)\u001b[0m\n\u001b[1;32m     33\u001b[0m \u001b[38;5;28;01mif\u001b[39;00m all_args\u001b[38;5;241m.\u001b[39mn_rollout_threads \u001b[38;5;241m==\u001b[39m \u001b[38;5;241m1\u001b[39m:\n\u001b[1;32m     34\u001b[0m     \u001b[38;5;28;01mif\u001b[39;00m all_args\u001b[38;5;241m.\u001b[39menv_name \u001b[38;5;241m==\u001b[39m \u001b[38;5;124m\"\u001b[39m\u001b[38;5;124mGraphMPE\u001b[39m\u001b[38;5;124m\"\u001b[39m:\n\u001b[0;32m---> 35\u001b[0m         \u001b[38;5;28;01mreturn\u001b[39;00m \u001b[43mGraphDummyVecEnv\u001b[49m\u001b[43m(\u001b[49m\u001b[43m[\u001b[49m\u001b[43mget_env_fn\u001b[49m\u001b[43m(\u001b[49m\u001b[38;5;241;43m0\u001b[39;49m\u001b[43m)\u001b[49m\u001b[43m]\u001b[49m\u001b[43m)\u001b[49m\n\u001b[1;32m     36\u001b[0m     \u001b[38;5;28;01mreturn\u001b[39;00m DummyVecEnv([get_env_fn(\u001b[38;5;241m0\u001b[39m)])\n\u001b[1;32m     37\u001b[0m \u001b[38;5;28;01melse\u001b[39;00m:\n",
      "File \u001b[0;32m~/Desktop/Fair-MARL/onpolicy/envs/env_wrappers.py:898\u001b[0m, in \u001b[0;36mGraphDummyVecEnv.__init__\u001b[0;34m(self, env_fns)\u001b[0m\n\u001b[1;32m    897\u001b[0m \u001b[38;5;28;01mdef\u001b[39;00m\u001b[38;5;250m \u001b[39m\u001b[38;5;21m__init__\u001b[39m(\u001b[38;5;28mself\u001b[39m, env_fns):\n\u001b[0;32m--> 898\u001b[0m     \u001b[38;5;28mself\u001b[39m\u001b[38;5;241m.\u001b[39menvs \u001b[38;5;241m=\u001b[39m [fn() \u001b[38;5;28;01mfor\u001b[39;00m fn \u001b[38;5;129;01min\u001b[39;00m env_fns]\n\u001b[1;32m    899\u001b[0m     env \u001b[38;5;241m=\u001b[39m \u001b[38;5;28mself\u001b[39m\u001b[38;5;241m.\u001b[39menvs[\u001b[38;5;241m0\u001b[39m]\n\u001b[1;32m    900\u001b[0m     ShareVecEnv\u001b[38;5;241m.\u001b[39m\u001b[38;5;21m__init__\u001b[39m(\u001b[38;5;28mself\u001b[39m, \u001b[38;5;28mlen\u001b[39m(env_fns), env\u001b[38;5;241m.\u001b[39mobservation_space, \n\u001b[1;32m    901\u001b[0m                         env\u001b[38;5;241m.\u001b[39mshare_observation_space, env\u001b[38;5;241m.\u001b[39maction_space)\n",
      "File \u001b[0;32m~/Desktop/Fair-MARL/onpolicy/envs/env_wrappers.py:898\u001b[0m, in \u001b[0;36m<listcomp>\u001b[0;34m(.0)\u001b[0m\n\u001b[1;32m    897\u001b[0m \u001b[38;5;28;01mdef\u001b[39;00m\u001b[38;5;250m \u001b[39m\u001b[38;5;21m__init__\u001b[39m(\u001b[38;5;28mself\u001b[39m, env_fns):\n\u001b[0;32m--> 898\u001b[0m     \u001b[38;5;28mself\u001b[39m\u001b[38;5;241m.\u001b[39menvs \u001b[38;5;241m=\u001b[39m [\u001b[43mfn\u001b[49m\u001b[43m(\u001b[49m\u001b[43m)\u001b[49m \u001b[38;5;28;01mfor\u001b[39;00m fn \u001b[38;5;129;01min\u001b[39;00m env_fns]\n\u001b[1;32m    899\u001b[0m     env \u001b[38;5;241m=\u001b[39m \u001b[38;5;28mself\u001b[39m\u001b[38;5;241m.\u001b[39menvs[\u001b[38;5;241m0\u001b[39m]\n\u001b[1;32m    900\u001b[0m     ShareVecEnv\u001b[38;5;241m.\u001b[39m\u001b[38;5;21m__init__\u001b[39m(\u001b[38;5;28mself\u001b[39m, \u001b[38;5;28mlen\u001b[39m(env_fns), env\u001b[38;5;241m.\u001b[39mobservation_space, \n\u001b[1;32m    901\u001b[0m                         env\u001b[38;5;241m.\u001b[39mshare_observation_space, env\u001b[38;5;241m.\u001b[39maction_space)\n",
      "File \u001b[0;32m~/Desktop/Fair-MARL/onpolicy/scripts/eval_mpe.py:26\u001b[0m, in \u001b[0;36mmake_render_env.<locals>.get_env_fn.<locals>.init_env\u001b[0;34m()\u001b[0m\n\u001b[1;32m     24\u001b[0m     env \u001b[38;5;241m=\u001b[39m MPEEnv(all_args)\n\u001b[1;32m     25\u001b[0m \u001b[38;5;28;01melif\u001b[39;00m all_args\u001b[38;5;241m.\u001b[39menv_name \u001b[38;5;241m==\u001b[39m \u001b[38;5;124m\"\u001b[39m\u001b[38;5;124mGraphMPE\u001b[39m\u001b[38;5;124m\"\u001b[39m:\n\u001b[0;32m---> 26\u001b[0m     env \u001b[38;5;241m=\u001b[39m \u001b[43mGraphMPEEnv\u001b[49m\u001b[43m(\u001b[49m\u001b[43mall_args\u001b[49m\u001b[43m)\u001b[49m\n\u001b[1;32m     27\u001b[0m \u001b[38;5;28;01melse\u001b[39;00m:\n\u001b[1;32m     28\u001b[0m     \u001b[38;5;28mprint\u001b[39m(\u001b[38;5;124mf\u001b[39m\u001b[38;5;124m\"\u001b[39m\u001b[38;5;124mCan not support the \u001b[39m\u001b[38;5;132;01m{\u001b[39;00mall_args\u001b[38;5;241m.\u001b[39menv_name\u001b[38;5;132;01m}\u001b[39;00m\u001b[38;5;124m environment.\u001b[39m\u001b[38;5;124m\"\u001b[39m)\n",
      "File \u001b[0;32m~/Desktop/Fair-MARL/multiagent/MPE_env.py:64\u001b[0m, in \u001b[0;36mGraphMPEEnv\u001b[0;34m(args)\u001b[0m\n\u001b[1;32m     62\u001b[0m scenario \u001b[38;5;241m=\u001b[39m load(args\u001b[38;5;241m.\u001b[39mscenario_name \u001b[38;5;241m+\u001b[39m \u001b[38;5;124m\"\u001b[39m\u001b[38;5;124m.py\u001b[39m\u001b[38;5;124m\"\u001b[39m)\u001b[38;5;241m.\u001b[39mScenario()\n\u001b[1;32m     63\u001b[0m \u001b[38;5;66;03m# create world\u001b[39;00m\n\u001b[0;32m---> 64\u001b[0m world \u001b[38;5;241m=\u001b[39m \u001b[43mscenario\u001b[49m\u001b[38;5;241;43m.\u001b[39;49m\u001b[43mmake_world\u001b[49m\u001b[43m(\u001b[49m\u001b[43margs\u001b[49m\u001b[38;5;241;43m=\u001b[39;49m\u001b[43margs\u001b[49m\u001b[43m)\u001b[49m\n\u001b[1;32m     65\u001b[0m \u001b[38;5;28;01mfrom\u001b[39;00m\u001b[38;5;250m \u001b[39m\u001b[38;5;21;01mmultiagent\u001b[39;00m\u001b[38;5;21;01m.\u001b[39;00m\u001b[38;5;21;01menvironment\u001b[39;00m\u001b[38;5;250m \u001b[39m\u001b[38;5;28;01mimport\u001b[39;00m MultiAgentGraphEnv\n\u001b[1;32m     66\u001b[0m \u001b[38;5;66;03m# create multiagent environment\u001b[39;00m\n",
      "File \u001b[0;32m~/Desktop/Fair-MARL/multiagent/custom_scenarios/nav_fairassign_nofairrew_formation_graph.py:77\u001b[0m, in \u001b[0;36mScenario.make_world\u001b[0;34m(self, args)\u001b[0m\n\u001b[1;32m     75\u001b[0m \u001b[38;5;28mself\u001b[39m\u001b[38;5;241m.\u001b[39mworld_size \u001b[38;5;241m=\u001b[39m args\u001b[38;5;241m.\u001b[39mworld_size\n\u001b[1;32m     76\u001b[0m \u001b[38;5;28mself\u001b[39m\u001b[38;5;241m.\u001b[39mnum_agents \u001b[38;5;241m=\u001b[39m args\u001b[38;5;241m.\u001b[39mnum_agents\n\u001b[0;32m---> 77\u001b[0m \u001b[38;5;28mself\u001b[39m\u001b[38;5;241m.\u001b[39mnum_agent_types \u001b[38;5;241m=\u001b[39m \u001b[43margs\u001b[49m\u001b[38;5;241;43m.\u001b[39;49m\u001b[43mnum_agent_types\u001b[49m\n\u001b[1;32m     78\u001b[0m \u001b[38;5;28mself\u001b[39m\u001b[38;5;241m.\u001b[39mnum_landmark_types \u001b[38;5;241m=\u001b[39m args\u001b[38;5;241m.\u001b[39mnum_landmark_types\n\u001b[1;32m     79\u001b[0m \u001b[38;5;28mself\u001b[39m\u001b[38;5;241m.\u001b[39mnum_scripted_agents \u001b[38;5;241m=\u001b[39m args\u001b[38;5;241m.\u001b[39mnum_scripted_agents\n",
      "\u001b[0;31mAttributeError\u001b[0m: 'Namespace' object has no attribute 'num_agent_types'"
     ]
    }
   ],
   "source": [
    "main(notebook_args)"
   ]
  }
 ],
 "metadata": {
  "kernelspec": {
   "display_name": "fairmarl",
   "language": "python",
   "name": "python3"
  },
  "language_info": {
   "codemirror_mode": {
    "name": "ipython",
    "version": 3
   },
   "file_extension": ".py",
   "mimetype": "text/x-python",
   "name": "python",
   "nbconvert_exporter": "python",
   "pygments_lexer": "ipython3",
   "version": "3.9.23"
  },
  "orig_nbformat": 4
 },
 "nbformat": 4,
 "nbformat_minor": 2
}
