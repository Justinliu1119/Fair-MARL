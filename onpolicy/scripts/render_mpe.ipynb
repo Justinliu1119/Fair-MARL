{
 "cells": [
  {
   "cell_type": "markdown",
   "metadata": {},
   "source": [
    "# MPE Evaluation\n",
    "\n",
    "This runs the trained MAPPO policy for goal navigation."
   ]
  },
  {
   "cell_type": "code",
   "execution_count": null,
   "metadata": {},
   "outputs": [],
   "source": [
    "import sys\n",
    "import os\n",
    "\n",
    "project_root = \"/home/luv9292/Fair-MARL\"\n",
    "if project_root not in sys.path:\n",
    "    sys.path.append(project_root)"
   ]
  },
  {
   "cell_type": "code",
   "execution_count": 2,
   "metadata": {},
   "outputs": [],
   "source": [
    "model_dir = os.path.join(\n",
    "    project_root,\n",
    "    \"onpolicy/results/GraphMPE/nav_fairassign_nofairrew_formation_graph/rmappo/test123/wandb/run-20250803_205423-u19ubsm2/files\"\n",
    "   \n",
    ")"
   ]
  },
  {
   "cell_type": "markdown",
   "metadata": {},
   "source": [
    "## Configuration"
   ]
  },
  {
   "cell_type": "code",
   "execution_count": 3,
   "metadata": {},
   "outputs": [
    {
     "ename": "ModuleNotFoundError",
     "evalue": "No module named 'onpolicy'",
     "output_type": "error",
     "traceback": [
      "\u001b[0;31m---------------------------------------------------------------------------\u001b[0m",
      "\u001b[0;31mModuleNotFoundError\u001b[0m                       Traceback (most recent call last)",
      "Cell \u001b[0;32mIn[3], line 1\u001b[0m\n\u001b[0;32m----> 1\u001b[0m \u001b[38;5;28;01mfrom\u001b[39;00m\u001b[38;5;250m \u001b[39m\u001b[38;5;21;01monpolicy\u001b[39;00m\u001b[38;5;21;01m.\u001b[39;00m\u001b[38;5;21;01mscripts\u001b[39;00m\u001b[38;5;21;01m.\u001b[39;00m\u001b[38;5;21;01meval_mpe\u001b[39;00m\u001b[38;5;250m \u001b[39m\u001b[38;5;28;01mimport\u001b[39;00m main\n\u001b[1;32m      2\u001b[0m notebook_args \u001b[38;5;241m=\u001b[39m [\n\u001b[1;32m      3\u001b[0m     \u001b[38;5;124m\"\u001b[39m\u001b[38;5;124m--env_name\u001b[39m\u001b[38;5;124m\"\u001b[39m, \u001b[38;5;124m\"\u001b[39m\u001b[38;5;124mGraphMPE\u001b[39m\u001b[38;5;124m\"\u001b[39m,\n\u001b[1;32m      4\u001b[0m     \u001b[38;5;124m\"\u001b[39m\u001b[38;5;124m--scenario_name\u001b[39m\u001b[38;5;124m\"\u001b[39m, \u001b[38;5;124m\"\u001b[39m\u001b[38;5;124mnav_fairassign_nofairrew_formation_graph\u001b[39m\u001b[38;5;124m\"\u001b[39m,\n\u001b[0;32m   (...)\u001b[0m\n\u001b[1;32m     17\u001b[0m     \u001b[38;5;124m\"\u001b[39m\u001b[38;5;124m--max_speed\u001b[39m\u001b[38;5;124m\"\u001b[39m, \u001b[38;5;124m\"\u001b[39m\u001b[38;5;124m0.01\u001b[39m\u001b[38;5;124m\"\u001b[39m\n\u001b[1;32m     18\u001b[0m ]\n",
      "\u001b[0;31mModuleNotFoundError\u001b[0m: No module named 'onpolicy'"
     ]
    }
   ],
   "source": [
    "from onpolicy.scripts.eval_mpe import main\n",
    "notebook_args = [\n",
    "    \"--env_name\", \"GraphMPE\",\n",
    "    \"--scenario_name\", \"nav_fairassign_nofairrew_formation_graph\",\n",
    "    \"--algorithm_name\", \"rmappo\",\n",
    "    \"--model_dir\", model_dir,\n",
    "    \"--assignment_type\", \"fair\",\n",
    "    \"--use_fairness_reward\",\n",
    "    \"--num_agents\", \"2\",\n",
    "    \"--num_landmarks\", \"2\",\n",
    "    \"--num_obstacles\", \"2\",\n",
    "    \"--world_size\", \"3\",\n",
    "    \"--episode_length\", \"500\",\n",
    "    \"--render_episodes\", \"5\",\n",
    "    \"--save_gifs\",\n",
    "    \"--use_render\",\n",
    "    \"--max_speed\", \"0.01\"\n",
    "]\n",
    "\n"
   ]
  },
  {
   "cell_type": "code",
   "execution_count": null,
   "metadata": {},
   "outputs": [],
   "source": [
    "main(notebook_args)"
   ]
  }
 ],
 "metadata": {
  "kernelspec": {
   "display_name": "fairmarl",
   "language": "python",
   "name": "python3"
  },
  "language_info": {
   "codemirror_mode": {
    "name": "ipython",
    "version": 3
   },
   "file_extension": ".py",
   "mimetype": "text/x-python",
   "name": "python",
   "nbconvert_exporter": "python",
   "pygments_lexer": "ipython3",
   "version": "3.9.23"
  },
  "orig_nbformat": 4
 },
 "nbformat": 4,
 "nbformat_minor": 2
}
