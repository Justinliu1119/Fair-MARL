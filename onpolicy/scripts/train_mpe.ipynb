{
 "cells": [
  {
   "cell_type": "markdown",
   "metadata": {},
   "source": [
    "# MAPPO Evaluation & Rendering\n",
    "\n",
    "This runs the trained MAPPO policy with the patrolling zoo."
   ]
  },
  {
   "cell_type": "code",
   "execution_count": 1,
   "metadata": {},
   "outputs": [
    {
     "name": "stdout",
     "output_type": "stream",
     "text": [
      "✅ Working directory set to: /home/luv9292/MARL\n"
     ]
    }
   ],
   "source": [
    "import os\n",
    "import sys\n",
    "from pathlib import Path\n",
    "\n",
    "# Set working directory to MARL repo root\n",
    "project_root = \"/home/luv9292/MARL\"\n",
    "os.chdir(project_root)\n",
    "sys.path.append(project_root)\n",
    "\n",
    "print(\"✅ Working directory set to:\", os.getcwd())"
   ]
  },
  {
   "cell_type": "markdown",
   "metadata": {},
   "source": [
    "## Configuration"
   ]
  },
  {
   "cell_type": "code",
   "execution_count": 2,
   "metadata": {},
   "outputs": [],
   "source": [
    "import time\n",
    "\n",
    "# Simulate CLI arguments from your command\n",
    "sys.argv = [\n",
    "    \"train_mpe.py\",\n",
    "    \"--project_name\", \"test\",\n",
    "    \"--env_name\", \"GraphMPE\",\n",
    "    \"--algorithm_name\", \"rmappo\",\n",
    "    \"--seed\", \"2\",\n",
    "    \"--experiment_name\", \"test123\",\n",
    "    \"--scenario_name\", \"nav_fairassign_nofairrew_formation_graph\",\n",
    "    \"--num_env_steps\", \"1000000\",\n",
    "    \"--num_agents\", \"2\",\n",
    "    \"--num_landmarks\", \"2\",\n",
    "    \"--num_obstacles\", \"2\",\n",
    "\n",
    "    \"--n_rollout_threads\", \"20\"\n",
    "]"
   ]
  },
  {
   "cell_type": "code",
   "execution_count": 3,
   "metadata": {},
   "outputs": [
    {
     "name": "stderr",
     "output_type": "stream",
     "text": [
      "Failed to detect the name of this notebook, you can set it manually with the WANDB_NOTEBOOK_NAME environment variable to enable code saving.\n",
      "\u001b[34m\u001b[1mwandb\u001b[0m: Currently logged in as: \u001b[33mjliu3548\u001b[0m (\u001b[33mfair_marl\u001b[0m). Use \u001b[1m`wandb login --relogin`\u001b[0m to force relogin\n"
     ]
    },
    {
     "data": {
      "text/html": [
       "wandb version 0.21.0 is available!  To upgrade, please run:\n",
       " $ pip install wandb --upgrade"
      ],
      "text/plain": [
       "<IPython.core.display.HTML object>"
      ]
     },
     "metadata": {},
     "output_type": "display_data"
    },
    {
     "data": {
      "text/html": [
       "Tracking run with wandb version 0.15.4"
      ],
      "text/plain": [
       "<IPython.core.display.HTML object>"
      ]
     },
     "metadata": {},
     "output_type": "display_data"
    },
    {
     "data": {
      "text/html": [
       "Run data is saved locally in <code>/home/luv9292/MARL/onpolicy/results/GraphMPE/nav_fairassign_nofairrew_formation_graph/rmappo/test123/wandb/run-20250725_001808-2ur8kb5w</code>"
      ],
      "text/plain": [
       "<IPython.core.display.HTML object>"
      ]
     },
     "metadata": {},
     "output_type": "display_data"
    },
    {
     "data": {
      "text/html": [
       "Syncing run <strong><a href='https://wandb.ai/fair_marl/test/runs/2ur8kb5w' target=\"_blank\">rmappo_test123_seed2</a></strong> to <a href='https://wandb.ai/fair_marl/test' target=\"_blank\">Weights & Biases</a> (<a href='https://wandb.me/run' target=\"_blank\">docs</a>)<br/>"
      ],
      "text/plain": [
       "<IPython.core.display.HTML object>"
      ]
     },
     "metadata": {},
     "output_type": "display_data"
    },
    {
     "data": {
      "text/html": [
       " View project at <a href='https://wandb.ai/fair_marl/test' target=\"_blank\">https://wandb.ai/fair_marl/test</a>"
      ],
      "text/plain": [
       "<IPython.core.display.HTML object>"
      ]
     },
     "metadata": {},
     "output_type": "display_data"
    },
    {
     "data": {
      "text/html": [
       " View run at <a href='https://wandb.ai/fair_marl/test/runs/2ur8kb5w' target=\"_blank\">https://wandb.ai/fair_marl/test/runs/2ur8kb5w</a>"
      ],
      "text/plain": [
       "<IPython.core.display.HTML object>"
      ]
     },
     "metadata": {},
     "output_type": "display_data"
    },
    {
     "name": "stderr",
     "output_type": "stream",
     "text": [
      "/home/luv9292/miniconda3/envs/fairmarl39/lib/python3.9/site-packages/cvxpy/reductions/solvers/solving_chain.py:336: FutureWarning: \n",
      "    Your problem is being solved with the ECOS solver by default. Starting in \n",
      "    CVXPY 1.5.0, Clarabel will be used as the default solver instead. To continue \n",
      "    using ECOS, specify the ECOS solver explicitly using the ``solver=cp.ECOS`` \n",
      "    argument to the ``problem.solve`` method.\n",
      "    \n",
      "  warnings.warn(ECOS_DEPRECATION_MSG, FutureWarning)\n",
      "/home/luv9292/miniconda3/envs/fairmarl39/lib/python3.9/site-packages/cvxpy/reductions/solvers/solving_chain.py:336: FutureWarning: \n",
      "    Your problem is being solved with the ECOS solver by default. Starting in \n",
      "    CVXPY 1.5.0, Clarabel will be used as the default solver instead. To continue \n",
      "    using ECOS, specify the ECOS solver explicitly using the ``solver=cp.ECOS`` \n",
      "    argument to the ``problem.solve`` method.\n",
      "    \n",
      "  warnings.warn(ECOS_DEPRECATION_MSG, FutureWarning)\n",
      "/home/luv9292/miniconda3/envs/fairmarl39/lib/python3.9/site-packages/cvxpy/reductions/solvers/solving_chain.py:336: FutureWarning: \n",
      "    Your problem is being solved with the ECOS solver by default. Starting in \n",
      "    CVXPY 1.5.0, Clarabel will be used as the default solver instead. To continue \n",
      "    using ECOS, specify the ECOS solver explicitly using the ``solver=cp.ECOS`` \n",
      "    argument to the ``problem.solve`` method.\n",
      "    \n",
      "  warnings.warn(ECOS_DEPRECATION_MSG, FutureWarning)\n",
      "/home/luv9292/miniconda3/envs/fairmarl39/lib/python3.9/site-packages/cvxpy/reductions/solvers/solving_chain.py:336: FutureWarning: \n",
      "    Your problem is being solved with the ECOS solver by default. Starting in \n",
      "    CVXPY 1.5.0, Clarabel will be used as the default solver instead. To continue \n",
      "    using ECOS, specify the ECOS solver explicitly using the ``solver=cp.ECOS`` \n",
      "    argument to the ``problem.solve`` method.\n",
      "    \n",
      "  warnings.warn(ECOS_DEPRECATION_MSG, FutureWarning)\n",
      "/home/luv9292/miniconda3/envs/fairmarl39/lib/python3.9/site-packages/cvxpy/reductions/solvers/solving_chain.py:336: FutureWarning: \n",
      "    Your problem is being solved with the ECOS solver by default. Starting in \n",
      "    CVXPY 1.5.0, Clarabel will be used as the default solver instead. To continue \n",
      "    using ECOS, specify the ECOS solver explicitly using the ``solver=cp.ECOS`` \n",
      "    argument to the ``problem.solve`` method.\n",
      "    \n",
      "  warnings.warn(ECOS_DEPRECATION_MSG, FutureWarning)\n",
      "/home/luv9292/miniconda3/envs/fairmarl39/lib/python3.9/site-packages/cvxpy/reductions/solvers/solving_chain.py:336: FutureWarning: \n",
      "    Your problem is being solved with the ECOS solver by default. Starting in \n",
      "    CVXPY 1.5.0, Clarabel will be used as the default solver instead. To continue \n",
      "    using ECOS, specify the ECOS solver explicitly using the ``solver=cp.ECOS`` \n",
      "    argument to the ``problem.solve`` method.\n",
      "    \n",
      "  warnings.warn(ECOS_DEPRECATION_MSG, FutureWarning)\n",
      "/home/luv9292/miniconda3/envs/fairmarl39/lib/python3.9/site-packages/cvxpy/reductions/solvers/solving_chain.py:336: FutureWarning: \n",
      "    Your problem is being solved with the ECOS solver by default. Starting in \n",
      "    CVXPY 1.5.0, Clarabel will be used as the default solver instead. To continue \n",
      "    using ECOS, specify the ECOS solver explicitly using the ``solver=cp.ECOS`` \n",
      "    argument to the ``problem.solve`` method.\n",
      "    \n",
      "  warnings.warn(ECOS_DEPRECATION_MSG, FutureWarning)\n",
      "/home/luv9292/miniconda3/envs/fairmarl39/lib/python3.9/site-packages/cvxpy/reductions/solvers/solving_chain.py:336: FutureWarning: \n",
      "    Your problem is being solved with the ECOS solver by default. Starting in \n",
      "    CVXPY 1.5.0, Clarabel will be used as the default solver instead. To continue \n",
      "    using ECOS, specify the ECOS solver explicitly using the ``solver=cp.ECOS`` \n",
      "    argument to the ``problem.solve`` method.\n",
      "    \n",
      "  warnings.warn(ECOS_DEPRECATION_MSG, FutureWarning)\n",
      "/home/luv9292/miniconda3/envs/fairmarl39/lib/python3.9/site-packages/cvxpy/reductions/solvers/solving_chain.py:336: FutureWarning: \n",
      "    Your problem is being solved with the ECOS solver by default. Starting in \n",
      "    CVXPY 1.5.0, Clarabel will be used as the default solver instead. To continue \n",
      "    using ECOS, specify the ECOS solver explicitly using the ``solver=cp.ECOS`` \n",
      "    argument to the ``problem.solve`` method.\n",
      "    \n",
      "  warnings.warn(ECOS_DEPRECATION_MSG, FutureWarning)\n",
      "/home/luv9292/miniconda3/envs/fairmarl39/lib/python3.9/site-packages/cvxpy/reductions/solvers/solving_chain.py:336: FutureWarning: \n",
      "    Your problem is being solved with the ECOS solver by default. Starting in \n",
      "    CVXPY 1.5.0, Clarabel will be used as the default solver instead. To continue \n",
      "    using ECOS, specify the ECOS solver explicitly using the ``solver=cp.ECOS`` \n",
      "    argument to the ``problem.solve`` method.\n",
      "    \n",
      "  warnings.warn(ECOS_DEPRECATION_MSG, FutureWarning)\n",
      "/home/luv9292/miniconda3/envs/fairmarl39/lib/python3.9/site-packages/cvxpy/reductions/solvers/solving_chain.py:336: FutureWarning: \n",
      "    Your problem is being solved with the ECOS solver by default. Starting in \n",
      "    CVXPY 1.5.0, Clarabel will be used as the default solver instead. To continue \n",
      "    using ECOS, specify the ECOS solver explicitly using the ``solver=cp.ECOS`` \n",
      "    argument to the ``problem.solve`` method.\n",
      "    \n",
      "  warnings.warn(ECOS_DEPRECATION_MSG, FutureWarning)\n",
      "📊 Training Progress:   0%|                         | 0/1000000 [00:00<?, ?it/s]/home/luv9292/miniconda3/envs/fairmarl39/lib/python3.9/site-packages/cvxpy/reductions/solvers/solving_chain.py:336: FutureWarning: \n",
      "    Your problem is being solved with the ECOS solver by default. Starting in \n",
      "    CVXPY 1.5.0, Clarabel will be used as the default solver instead. To continue \n",
      "    using ECOS, specify the ECOS solver explicitly using the ``solver=cp.ECOS`` \n",
      "    argument to the ``problem.solve`` method.\n",
      "    \n",
      "  warnings.warn(ECOS_DEPRECATION_MSG, FutureWarning)\n",
      "/home/luv9292/miniconda3/envs/fairmarl39/lib/python3.9/site-packages/cvxpy/reductions/solvers/solving_chain.py:336: FutureWarning: \n",
      "    Your problem is being solved with the ECOS solver by default. Starting in \n",
      "    CVXPY 1.5.0, Clarabel will be used as the default solver instead. To continue \n",
      "    using ECOS, specify the ECOS solver explicitly using the ``solver=cp.ECOS`` \n",
      "    argument to the ``problem.solve`` method.\n",
      "    \n",
      "  warnings.warn(ECOS_DEPRECATION_MSG, FutureWarning)\n",
      "/home/luv9292/miniconda3/envs/fairmarl39/lib/python3.9/site-packages/cvxpy/reductions/solvers/solving_chain.py:336: FutureWarning: \n",
      "    Your problem is being solved with the ECOS solver by default. Starting in \n",
      "    CVXPY 1.5.0, Clarabel will be used as the default solver instead. To continue \n",
      "    using ECOS, specify the ECOS solver explicitly using the ``solver=cp.ECOS`` \n",
      "    argument to the ``problem.solve`` method.\n",
      "    \n",
      "  warnings.warn(ECOS_DEPRECATION_MSG, FutureWarning)\n",
      "/home/luv9292/miniconda3/envs/fairmarl39/lib/python3.9/site-packages/cvxpy/reductions/solvers/solving_chain.py:336: FutureWarning: \n",
      "    Your problem is being solved with the ECOS solver by default. Starting in \n",
      "    CVXPY 1.5.0, Clarabel will be used as the default solver instead. To continue \n",
      "    using ECOS, specify the ECOS solver explicitly using the ``solver=cp.ECOS`` \n",
      "    argument to the ``problem.solve`` method.\n",
      "    \n",
      "  warnings.warn(ECOS_DEPRECATION_MSG, FutureWarning)\n",
      "/home/luv9292/miniconda3/envs/fairmarl39/lib/python3.9/site-packages/cvxpy/reductions/solvers/solving_chain.py:336: FutureWarning: \n",
      "    Your problem is being solved with the ECOS solver by default. Starting in \n",
      "    CVXPY 1.5.0, Clarabel will be used as the default solver instead. To continue \n",
      "    using ECOS, specify the ECOS solver explicitly using the ``solver=cp.ECOS`` \n",
      "    argument to the ``problem.solve`` method.\n",
      "    \n",
      "  warnings.warn(ECOS_DEPRECATION_MSG, FutureWarning)\n",
      "/home/luv9292/miniconda3/envs/fairmarl39/lib/python3.9/site-packages/cvxpy/reductions/solvers/solving_chain.py:336: FutureWarning: \n",
      "    Your problem is being solved with the ECOS solver by default. Starting in \n",
      "    CVXPY 1.5.0, Clarabel will be used as the default solver instead. To continue \n",
      "    using ECOS, specify the ECOS solver explicitly using the ``solver=cp.ECOS`` \n",
      "    argument to the ``problem.solve`` method.\n",
      "    \n",
      "  warnings.warn(ECOS_DEPRECATION_MSG, FutureWarning)\n",
      "/home/luv9292/miniconda3/envs/fairmarl39/lib/python3.9/site-packages/cvxpy/reductions/solvers/solving_chain.py:336: FutureWarning: \n",
      "    Your problem is being solved with the ECOS solver by default. Starting in \n",
      "    CVXPY 1.5.0, Clarabel will be used as the default solver instead. To continue \n",
      "    using ECOS, specify the ECOS solver explicitly using the ``solver=cp.ECOS`` \n",
      "    argument to the ``problem.solve`` method.\n",
      "    \n",
      "  warnings.warn(ECOS_DEPRECATION_MSG, FutureWarning)\n",
      "/home/luv9292/miniconda3/envs/fairmarl39/lib/python3.9/site-packages/cvxpy/reductions/solvers/solving_chain.py:336: FutureWarning: \n",
      "    Your problem is being solved with the ECOS solver by default. Starting in \n",
      "    CVXPY 1.5.0, Clarabel will be used as the default solver instead. To continue \n",
      "    using ECOS, specify the ECOS solver explicitly using the ``solver=cp.ECOS`` \n",
      "    argument to the ``problem.solve`` method.\n",
      "    \n",
      "  warnings.warn(ECOS_DEPRECATION_MSG, FutureWarning)\n",
      "/home/luv9292/miniconda3/envs/fairmarl39/lib/python3.9/site-packages/cvxpy/reductions/solvers/solving_chain.py:336: FutureWarning: \n",
      "    Your problem is being solved with the ECOS solver by default. Starting in \n",
      "    CVXPY 1.5.0, Clarabel will be used as the default solver instead. To continue \n",
      "    using ECOS, specify the ECOS solver explicitly using the ``solver=cp.ECOS`` \n",
      "    argument to the ``problem.solve`` method.\n",
      "    \n",
      "  warnings.warn(ECOS_DEPRECATION_MSG, FutureWarning)\n",
      "/home/luv9292/miniconda3/envs/fairmarl39/lib/python3.9/site-packages/torch_geometric/typing.py:31: UserWarning: An issue occurred while importing 'torch-scatter'. Disabling its usage. Stacktrace: /home/luv9292/miniconda3/envs/fairmarl39/lib/python3.9/site-packages/torch_scatter/_version_cuda.so: undefined symbol: _ZN3c106detail14torchCheckFailEPKcS2_jRKNSt7__cxx1112basic_stringIcSt11char_traitsIcESaIcEEE\n",
      "  warnings.warn(f\"An issue occurred while importing 'torch-scatter'. \"\n",
      "/home/luv9292/miniconda3/envs/fairmarl39/lib/python3.9/site-packages/torch_geometric/typing.py:42: UserWarning: An issue occurred while importing 'torch-sparse'. Disabling its usage. Stacktrace: /home/luv9292/miniconda3/envs/fairmarl39/lib/python3.9/site-packages/torch_sparse/_version_cuda.so: undefined symbol: _ZN3c106detail14torchCheckFailEPKcS2_jRKNSt7__cxx1112basic_stringIcSt11char_traitsIcESaIcEEE\n",
      "  warnings.warn(f\"An issue occurred while importing 'torch-sparse'. \"\n",
      "/home/luv9292/miniconda3/envs/fairmarl39/lib/python3.9/site-packages/cvxpy/reductions/solvers/solving_chain.py:336: FutureWarning: \n",
      "    Your problem is being solved with the ECOS solver by default. Starting in \n",
      "    CVXPY 1.5.0, Clarabel will be used as the default solver instead. To continue \n",
      "    using ECOS, specify the ECOS solver explicitly using the ``solver=cp.ECOS`` \n",
      "    argument to the ``problem.solve`` method.\n",
      "    \n",
      "  warnings.warn(ECOS_DEPRECATION_MSG, FutureWarning)\n",
      "/home/luv9292/miniconda3/envs/fairmarl39/lib/python3.9/site-packages/cvxpy/reductions/solvers/solving_chain.py:336: FutureWarning: \n",
      "    Your problem is being solved with the ECOS solver by default. Starting in \n",
      "    CVXPY 1.5.0, Clarabel will be used as the default solver instead. To continue \n",
      "    using ECOS, specify the ECOS solver explicitly using the ``solver=cp.ECOS`` \n",
      "    argument to the ``problem.solve`` method.\n",
      "    \n",
      "  warnings.warn(ECOS_DEPRECATION_MSG, FutureWarning)\n",
      "/home/luv9292/miniconda3/envs/fairmarl39/lib/python3.9/site-packages/cvxpy/reductions/solvers/solving_chain.py:336: FutureWarning: \n",
      "    Your problem is being solved with the ECOS solver by default. Starting in \n",
      "    CVXPY 1.5.0, Clarabel will be used as the default solver instead. To continue \n",
      "    using ECOS, specify the ECOS solver explicitly using the ``solver=cp.ECOS`` \n",
      "    argument to the ``problem.solve`` method.\n",
      "    \n",
      "  warnings.warn(ECOS_DEPRECATION_MSG, FutureWarning)\n",
      "/home/luv9292/miniconda3/envs/fairmarl39/lib/python3.9/site-packages/cvxpy/reductions/solvers/solving_chain.py:336: FutureWarning: \n",
      "    Your problem is being solved with the ECOS solver by default. Starting in \n",
      "    CVXPY 1.5.0, Clarabel will be used as the default solver instead. To continue \n",
      "    using ECOS, specify the ECOS solver explicitly using the ``solver=cp.ECOS`` \n",
      "    argument to the ``problem.solve`` method.\n",
      "    \n",
      "  warnings.warn(ECOS_DEPRECATION_MSG, FutureWarning)\n",
      "/home/luv9292/miniconda3/envs/fairmarl39/lib/python3.9/site-packages/cvxpy/reductions/solvers/solving_chain.py:336: FutureWarning: \n",
      "    Your problem is being solved with the ECOS solver by default. Starting in \n",
      "    CVXPY 1.5.0, Clarabel will be used as the default solver instead. To continue \n",
      "    using ECOS, specify the ECOS solver explicitly using the ``solver=cp.ECOS`` \n",
      "    argument to the ``problem.solve`` method.\n",
      "    \n",
      "  warnings.warn(ECOS_DEPRECATION_MSG, FutureWarning)\n",
      "/home/luv9292/miniconda3/envs/fairmarl39/lib/python3.9/site-packages/cvxpy/reductions/solvers/solving_chain.py:336: FutureWarning: \n",
      "    Your problem is being solved with the ECOS solver by default. Starting in \n",
      "    CVXPY 1.5.0, Clarabel will be used as the default solver instead. To continue \n",
      "    using ECOS, specify the ECOS solver explicitly using the ``solver=cp.ECOS`` \n",
      "    argument to the ``problem.solve`` method.\n",
      "    \n",
      "  warnings.warn(ECOS_DEPRECATION_MSG, FutureWarning)\n",
      "/home/luv9292/miniconda3/envs/fairmarl39/lib/python3.9/site-packages/cvxpy/reductions/solvers/solving_chain.py:336: FutureWarning: \n",
      "    Your problem is being solved with the ECOS solver by default. Starting in \n",
      "    CVXPY 1.5.0, Clarabel will be used as the default solver instead. To continue \n",
      "    using ECOS, specify the ECOS solver explicitly using the ``solver=cp.ECOS`` \n",
      "    argument to the ``problem.solve`` method.\n",
      "    \n",
      "  warnings.warn(ECOS_DEPRECATION_MSG, FutureWarning)\n",
      "/home/luv9292/miniconda3/envs/fairmarl39/lib/python3.9/site-packages/cvxpy/reductions/solvers/solving_chain.py:336: FutureWarning: \n",
      "    Your problem is being solved with the ECOS solver by default. Starting in \n",
      "    CVXPY 1.5.0, Clarabel will be used as the default solver instead. To continue \n",
      "    using ECOS, specify the ECOS solver explicitly using the ``solver=cp.ECOS`` \n",
      "    argument to the ``problem.solve`` method.\n",
      "    \n",
      "  warnings.warn(ECOS_DEPRECATION_MSG, FutureWarning)\n",
      "/home/luv9292/miniconda3/envs/fairmarl39/lib/python3.9/site-packages/cvxpy/reductions/solvers/solving_chain.py:336: FutureWarning: \n",
      "    Your problem is being solved with the ECOS solver by default. Starting in \n",
      "    CVXPY 1.5.0, Clarabel will be used as the default solver instead. To continue \n",
      "    using ECOS, specify the ECOS solver explicitly using the ``solver=cp.ECOS`` \n",
      "    argument to the ``problem.solve`` method.\n",
      "    \n",
      "  warnings.warn(ECOS_DEPRECATION_MSG, FutureWarning)\n",
      "/home/luv9292/miniconda3/envs/fairmarl39/lib/python3.9/site-packages/cvxpy/reductions/solvers/solving_chain.py:336: FutureWarning: \n",
      "    Your problem is being solved with the ECOS solver by default. Starting in \n",
      "    CVXPY 1.5.0, Clarabel will be used as the default solver instead. To continue \n",
      "    using ECOS, specify the ECOS solver explicitly using the ``solver=cp.ECOS`` \n",
      "    argument to the ``problem.solve`` method.\n",
      "    \n",
      "  warnings.warn(ECOS_DEPRECATION_MSG, FutureWarning)\n",
      "/home/luv9292/miniconda3/envs/fairmarl39/lib/python3.9/site-packages/cvxpy/reductions/solvers/solving_chain.py:336: FutureWarning: \n",
      "    Your problem is being solved with the ECOS solver by default. Starting in \n",
      "    CVXPY 1.5.0, Clarabel will be used as the default solver instead. To continue \n",
      "    using ECOS, specify the ECOS solver explicitly using the ``solver=cp.ECOS`` \n",
      "    argument to the ``problem.solve`` method.\n",
      "    \n",
      "  warnings.warn(ECOS_DEPRECATION_MSG, FutureWarning)\n",
      "/home/luv9292/miniconda3/envs/fairmarl39/lib/python3.9/site-packages/cvxpy/reductions/solvers/solving_chain.py:336: FutureWarning: \n",
      "    Your problem is being solved with the ECOS solver by default. Starting in \n",
      "    CVXPY 1.5.0, Clarabel will be used as the default solver instead. To continue \n",
      "    using ECOS, specify the ECOS solver explicitly using the ``solver=cp.ECOS`` \n",
      "    argument to the ``problem.solve`` method.\n",
      "    \n",
      "  warnings.warn(ECOS_DEPRECATION_MSG, FutureWarning)\n",
      "/home/luv9292/miniconda3/envs/fairmarl39/lib/python3.9/site-packages/cvxpy/reductions/solvers/solving_chain.py:336: FutureWarning: \n",
      "    Your problem is being solved with the ECOS solver by default. Starting in \n",
      "    CVXPY 1.5.0, Clarabel will be used as the default solver instead. To continue \n",
      "    using ECOS, specify the ECOS solver explicitly using the ``solver=cp.ECOS`` \n",
      "    argument to the ``problem.solve`` method.\n",
      "    \n",
      "  warnings.warn(ECOS_DEPRECATION_MSG, FutureWarning)\n",
      "/home/luv9292/miniconda3/envs/fairmarl39/lib/python3.9/site-packages/cvxpy/reductions/solvers/solving_chain.py:336: FutureWarning: \n",
      "    Your problem is being solved with the ECOS solver by default. Starting in \n",
      "    CVXPY 1.5.0, Clarabel will be used as the default solver instead. To continue \n",
      "    using ECOS, specify the ECOS solver explicitly using the ``solver=cp.ECOS`` \n",
      "    argument to the ``problem.solve`` method.\n",
      "    \n",
      "  warnings.warn(ECOS_DEPRECATION_MSG, FutureWarning)\n",
      "/home/luv9292/miniconda3/envs/fairmarl39/lib/python3.9/site-packages/cvxpy/reductions/solvers/solving_chain.py:336: FutureWarning: \n",
      "    Your problem is being solved with the ECOS solver by default. Starting in \n",
      "    CVXPY 1.5.0, Clarabel will be used as the default solver instead. To continue \n",
      "    using ECOS, specify the ECOS solver explicitly using the ``solver=cp.ECOS`` \n",
      "    argument to the ``problem.solve`` method.\n",
      "    \n",
      "  warnings.warn(ECOS_DEPRECATION_MSG, FutureWarning)\n",
      "/home/luv9292/miniconda3/envs/fairmarl39/lib/python3.9/site-packages/cvxpy/reductions/solvers/solving_chain.py:336: FutureWarning: \n",
      "    Your problem is being solved with the ECOS solver by default. Starting in \n",
      "    CVXPY 1.5.0, Clarabel will be used as the default solver instead. To continue \n",
      "    using ECOS, specify the ECOS solver explicitly using the ``solver=cp.ECOS`` \n",
      "    argument to the ``problem.solve`` method.\n",
      "    \n",
      "  warnings.warn(ECOS_DEPRECATION_MSG, FutureWarning)\n",
      "/home/luv9292/miniconda3/envs/fairmarl39/lib/python3.9/site-packages/cvxpy/reductions/solvers/solving_chain.py:336: FutureWarning: \n",
      "    Your problem is being solved with the ECOS solver by default. Starting in \n",
      "    CVXPY 1.5.0, Clarabel will be used as the default solver instead. To continue \n",
      "    using ECOS, specify the ECOS solver explicitly using the ``solver=cp.ECOS`` \n",
      "    argument to the ``problem.solve`` method.\n",
      "    \n",
      "  warnings.warn(ECOS_DEPRECATION_MSG, FutureWarning)\n",
      "/home/luv9292/miniconda3/envs/fairmarl39/lib/python3.9/site-packages/cvxpy/reductions/solvers/solving_chain.py:336: FutureWarning: \n",
      "    Your problem is being solved with the ECOS solver by default. Starting in \n",
      "    CVXPY 1.5.0, Clarabel will be used as the default solver instead. To continue \n",
      "    using ECOS, specify the ECOS solver explicitly using the ``solver=cp.ECOS`` \n",
      "    argument to the ``problem.solve`` method.\n",
      "    \n",
      "  warnings.warn(ECOS_DEPRECATION_MSG, FutureWarning)\n",
      "/home/luv9292/miniconda3/envs/fairmarl39/lib/python3.9/site-packages/cvxpy/reductions/solvers/solving_chain.py:336: FutureWarning: \n",
      "    Your problem is being solved with the ECOS solver by default. Starting in \n",
      "    CVXPY 1.5.0, Clarabel will be used as the default solver instead. To continue \n",
      "    using ECOS, specify the ECOS solver explicitly using the ``solver=cp.ECOS`` \n",
      "    argument to the ``problem.solve`` method.\n",
      "    \n",
      "  warnings.warn(ECOS_DEPRECATION_MSG, FutureWarning)\n",
      "/home/luv9292/miniconda3/envs/fairmarl39/lib/python3.9/site-packages/cvxpy/reductions/solvers/solving_chain.py:336: FutureWarning: \n",
      "    Your problem is being solved with the ECOS solver by default. Starting in \n",
      "    CVXPY 1.5.0, Clarabel will be used as the default solver instead. To continue \n",
      "    using ECOS, specify the ECOS solver explicitly using the ``solver=cp.ECOS`` \n",
      "    argument to the ``problem.solve`` method.\n",
      "    \n",
      "  warnings.warn(ECOS_DEPRECATION_MSG, FutureWarning)\n",
      "wandb: Network error (ReadTimeout), entering retry loop.\n",
      "📊 Training Progress:   0%|                       | 0/1000000 [1:56:19<?, ?it/s]\n"
     ]
    },
    {
     "data": {
      "text/html": [
       "Waiting for W&B process to finish... <strong style=\"color:green\">(success).</strong>"
      ],
      "text/plain": [
       "<IPython.core.display.HTML object>"
      ]
     },
     "metadata": {},
     "output_type": "display_data"
    },
    {
     "data": {
      "application/vnd.jupyter.widget-view+json": {
       "model_id": "e48953931eb049d49618daf500cfc285",
       "version_major": 2,
       "version_minor": 0
      },
      "text/plain": [
       "VBox(children=(Label(value='0.008 MB of 0.008 MB uploaded (0.000 MB deduped)\\r'), FloatProgress(value=1.0, max…"
      ]
     },
     "metadata": {},
     "output_type": "display_data"
    },
    {
     "data": {
      "text/html": [
       "<style>\n",
       "    table.wandb td:nth-child(1) { padding: 0 10px; text-align: left ; width: auto;} td:nth-child(2) {text-align: left ; width: 100%}\n",
       "    .wandb-row { display: flex; flex-direction: row; flex-wrap: wrap; justify-content: flex-start; width: 100% }\n",
       "    .wandb-col { display: flex; flex-direction: column; flex-basis: 100%; flex: 1; padding: 10px; }\n",
       "    </style>\n",
       "<div class=\"wandb-row\"><div class=\"wandb-col\"><h3>Run history:</h3><br/><table class=\"wandb\"><tr><td>actor_grad_norm</td><td>▁▄▄▅▅▆▄▅█▆▆▄▅▅▅▆▅▄▅▄ ▇▅▆▅▆▅▇▆▃▇▅ ▅▅▆▆▅▅▆</td></tr><tr><td>agent0/dist_to_goal</td><td>█▃▆▅▆▆▃▃▃▃▆▄▃▅▄▅▅▄▆▅▆▁▄▄▃▇▃▇▃▄▅▂▇▅▂▄▃▃▅▄</td></tr><tr><td>agent0/distance_mean</td><td>█▅▁▃▃▂▃▄▃▁▃▂▃▃▄▃▃▂▂▃▂▃▄▂▃▃▃▂▂▂▂▄▃▃▃▃▃▂▂▄</td></tr><tr><td>agent0/distance_variance</td><td>▄▆▂▇▄▄▆▄▁▄▅▅▅▃▅▃▄▂▆▃▃▅█▃▃▄▃▄▃▂▅▅▄▃▅▃▃▅▅▅</td></tr><tr><td>agent0/dists_traveled</td><td>█▆▁▃▃▁▃▃▃▁▂▁▃▄▃▃▃▂▃▃▂▂▅▂▂▃▃▂▂▂▂▅▂▃▃▃▃▂▂▃</td></tr><tr><td>agent0/individual_rewards</td><td>▂▄▃▁▃▃▃▃▃▄▄▃▅▃▄▃▂▃▃▃▃▆▃▃▅▄▄▃▅▃▄█▃▃▅▄▄▅▃▃</td></tr><tr><td>agent0/mean_variance</td><td>▄▂▁▁▃▁▁▁█▁▁▁▂▂▂▁▁▃▃▅▄▂▁▄▁▂▁▂▂▁▂▄▂▂▂▁▁▂▂▁</td></tr><tr><td>agent0/min_time_to_goal</td><td>▆▆▄▅█▆▄▅▆▂▄▂▄▆▆█▅▄█▇▅▂▇▄▂▇▁▅▃▆▃▇▄▆▃▆▆▃▆▇</td></tr><tr><td>agent0/num_agent_collisions</td><td>▂▄▂▄▇▂▂▂▂▁▄▄▂▁▄▄▂▁▁▂▂▁▁▅▂▄█▂▁▁▄▂▇▂▁▅▂▁▂▁</td></tr><tr><td>agent0/num_obstacle_collisions</td><td>▃█▂▆▃▁▂▄▁▁▆▂▃▃▄▄▄▁▄▁▂▁▂▁▂▂▂▂▁▄▁▂▂▁▁▃▁▂▁▁</td></tr><tr><td>agent0/time_mean</td><td>▅▄▂▁▃▅█▇▃▄▇▃█▅▇▅▆▄▃▄▃▆▅▆▄▃▇▇▆▅▅▇█▄▇▇▆▇▄█</td></tr><tr><td>agent0/time_mn_by_stddev</td><td>▄▃▂▁▃▅▇▇▄▄▇▂▆▅▇▄▆▄▂▅▃▇▅▆▄▄▇▇▇▅▅▇▆▃▇▅▇▇▄█</td></tr><tr><td>agent0/time_taken</td><td>▄▃▁▁▂▆▇▇▃▃▅▃█▃▇▅▃▄▁▄▂█▄▇▄▂▅█▇▄▄▆▄▃▇▃▆▆▃▇</td></tr><tr><td>agent0/time_to_goal</td><td>▇▇██▇▆▆▂▅▆▅▇▅▆▄▇▇▆█▆▇▃▆▅▅▇▅▃▁▅▄▅▆▇▅▇▄▃▅▄</td></tr><tr><td>agent0/time_variance</td><td>▅▄▂▁▃▅█▇▃▃▇▂▅▅▆▃▆▄▃▅▃▆▅▆▃▃▇▆▆▅▅▆▅▂▇▄▆▅▃█</td></tr><tr><td>agent1/dist_to_goal</td><td>█▁▅▇▃▇▄▁▂▆▂█▄▂▃▆▅▅▄▃▃▆▄▃▅▅▃▅▄▃▆▂▂▂▃▄▂▄▃▃</td></tr><tr><td>agent1/distance_mean</td><td>█▅▁▃▃▂▃▃▃▁▃▂▃▃▄▃▃▂▃▃▂▃▄▃▃▃▃▂▂▂▂▄▃▃▄▃▃▂▂▄</td></tr><tr><td>agent1/distance_variance</td><td>▆▇▃▇▅▄▇▇▂▄▅▄▄▄▇▃▅▁▂▄▂▇█▃▄▂▃▄▄▃▃▅▅▂▆▄▃▆▄▅</td></tr><tr><td>agent1/dists_traveled</td><td>█▅▁▂▃▂▄▄▃▁▃▃▃▃▄▃▃▂▃▃▂▄▃▃▃▃▃▃▃▂▃▄▃▃▄▃▃▂▂▄</td></tr><tr><td>agent1/individual_rewards</td><td>▁▃▂▂▄▂▃▄▂▃▂▃▃▃▄▂▃▃▃▄▄▄▃▄▃▃▅▃▂▃▂▄▄▄▆▂▇▃▄█</td></tr><tr><td>agent1/mean_variance</td><td>▂▄▂▁▁▂▃▁▁▄▂▄▁▂▁▂▃▂▃▅▂▂▄▁▂▁▁▅▂▃▄▃▁█▁▃▂▂▇▅</td></tr><tr><td>agent1/min_time_to_goal</td><td>▃▂▂▄▄▄▆▂▃▃▄▆▅▃█▅▄▄▄▃▃▄▃▆▄▄▄▄▄▅▆▄▄▃▆▄▂▁▄▆</td></tr><tr><td>agent1/num_agent_collisions</td><td>▂▄▂▄▇▂▂▂▂▁▄▄▂▁▄▄▂▁▁▂▂▁▁▅▂▄█▂▁▁▄▂▇▂▁▅▂▁▂▁</td></tr><tr><td>agent1/num_obstacle_collisions</td><td>█▅▃▃▃▃▇▁▃▃▄▅▁▂▁▅▄▁▁▃▃▂▃▁▁▂▁▁▃▄▃▁▂▂▁▃▄▁▁▅</td></tr><tr><td>agent1/time_mean</td><td>▃▃▁▁▂▄▆▅▃▃▅▃▅▃▅▃▄▃▂▄▃▅▄▄▃▂▅▅▄▄▃▅▅▃▆▅▆▅▃█</td></tr><tr><td>agent1/time_mn_by_stddev</td><td>▃▃▂▁▃▅▆▆▃▃▆▃▅▄▅▃▅▃▂▅▄▆▄▅▃▃▆▅▅▅▄▆▅▃█▄▇▅▄█</td></tr><tr><td>agent1/time_taken</td><td>▃▂▂▁▃▃▄▃▂▃▅▃▃▄▄▂▄▂▃▄▄▃▃▃▃▃▅▂▂▄▂▄▆▂▆▅▅▄▃█</td></tr><tr><td>agent1/time_to_goal</td><td>▇█▇█▅▅▆▇▇▆▅▇▆▅▅▇▄▇▇▅▅▅▅▅▅▅▄▆▇▅▇▂▃▆▃▄▂▅▆▁</td></tr><tr><td>agent1/time_variance</td><td>▄▃▂▁▃▄█▆▃▃▅▂▅▄▅▃▅▄▃▅▄▅▄▅▂▃▇▆▅▄▄▅▅▂▇▄█▄▃▆</td></tr><tr><td>average_episode_rewards</td><td>▁▁▄▃▃▅▃▅▄▆▅▄▆▅▅▅▄▇▆▆▅▅▅▇▇▆▇▅▇█▇▆▆▆█▆▆█▇▇</td></tr><tr><td>critic_grad_norm</td><td>█▃▂▅▄█▆▃▅▃▅▅▅▅▂▅▅▂▂▄▃▅▄▁▂▄▃▄▂▁▃▄▄▅▁▃▃▃▂▁</td></tr><tr><td>dist_entropy</td><td>█▆▄▃▃▃▃▃▃▃▂▂▃▂▂▂▃▂▂▂▂▃▂▁▂▂▁▂▂▁▁▁▁▂▁▁▂▁▂▁</td></tr><tr><td>policy_loss</td><td>▁▁▁▁▁▁▁▁▁▁▁▁▁▁▁▁▁▁▁▁█▁▁▁▁▃▁▁▁▁▁▁▁▁▁▁▁▁▁▁</td></tr><tr><td>ratio</td><td>▂▂▄▁▂▂▂▁▁▁▁▁▁▁▁▂▁▂▂▁▅▂▁█▁▃▁▂▁▁▁▇▁▄▁▁▂▁▁▁</td></tr><tr><td>value_loss</td><td>▃▅▂▃▃▃█▃▂▂▄▃▂▃▂▃▃▂▁▂▂▂▂▁▂▂▂▂▂▁▂▂▃▂▁▂▂▁▂▁</td></tr></table><br/></div><div class=\"wandb-col\"><h3>Run summary:</h3><br/><table class=\"wandb\"><tr><td>actor_grad_norm</td><td>0.56313</td></tr><tr><td>agent0/dist_to_goal</td><td>0.3502</td></tr><tr><td>agent0/distance_mean</td><td>0.7946</td></tr><tr><td>agent0/distance_variance</td><td>0.17575</td></tr><tr><td>agent0/dists_traveled</td><td>0.78016</td></tr><tr><td>agent0/individual_rewards</td><td>-0.38534</td></tr><tr><td>agent0/mean_variance</td><td>9.29809</td></tr><tr><td>agent0/min_time_to_goal</td><td>0.52575</td></tr><tr><td>agent0/num_agent_collisions</td><td>0.0</td></tr><tr><td>agent0/num_obstacle_collisions</td><td>0.0</td></tr><tr><td>agent0/time_mean</td><td>-0.4525</td></tr><tr><td>agent0/time_mn_by_stddev</td><td>-4999.97399</td></tr><tr><td>agent0/time_taken</td><td>-0.285</td></tr><tr><td>agent0/time_to_goal</td><td>2.165</td></tr><tr><td>agent0/time_variance</td><td>0.5475</td></tr><tr><td>agent1/dist_to_goal</td><td>0.35973</td></tr><tr><td>agent1/distance_mean</td><td>0.86163</td></tr><tr><td>agent1/distance_variance</td><td>0.15318</td></tr><tr><td>agent1/dists_traveled</td><td>0.9431</td></tr><tr><td>agent1/individual_rewards</td><td>0.79492</td></tr><tr><td>agent1/mean_variance</td><td>227.40603</td></tr><tr><td>agent1/min_time_to_goal</td><td>0.54907</td></tr><tr><td>agent1/num_agent_collisions</td><td>0.0</td></tr><tr><td>agent1/num_obstacle_collisions</td><td>0.6</td></tr><tr><td>agent1/time_mean</td><td>-0.055</td></tr><tr><td>agent1/time_mn_by_stddev</td><td>-3097.50961</td></tr><tr><td>agent1/time_taken</td><td>0.175</td></tr><tr><td>agent1/time_to_goal</td><td>1.925</td></tr><tr><td>agent1/time_variance</td><td>0.45</td></tr><tr><td>average_episode_rewards</td><td>-6.83306</td></tr><tr><td>critic_grad_norm</td><td>0.31351</td></tr><tr><td>dist_entropy</td><td>0.2864</td></tr><tr><td>policy_loss</td><td>-0.01681</td></tr><tr><td>ratio</td><td>0.96142</td></tr><tr><td>value_loss</td><td>0.13602</td></tr></table><br/></div></div>"
      ],
      "text/plain": [
       "<IPython.core.display.HTML object>"
      ]
     },
     "metadata": {},
     "output_type": "display_data"
    },
    {
     "data": {
      "text/html": [
       " View run <strong style=\"color:#cdcd00\">rmappo_test123_seed2</strong> at: <a href='https://wandb.ai/fair_marl/test/runs/2ur8kb5w' target=\"_blank\">https://wandb.ai/fair_marl/test/runs/2ur8kb5w</a><br/>Synced 6 W&B file(s), 0 media file(s), 0 artifact file(s) and 2 other file(s)"
      ],
      "text/plain": [
       "<IPython.core.display.HTML object>"
      ]
     },
     "metadata": {},
     "output_type": "display_data"
    },
    {
     "data": {
      "text/html": [
       "Find logs at: <code>./onpolicy/results/GraphMPE/nav_fairassign_nofairrew_formation_graph/rmappo/test123/wandb/run-20250725_001808-2ur8kb5w/logs</code>"
      ],
      "text/plain": [
       "<IPython.core.display.HTML object>"
      ]
     },
     "metadata": {},
     "output_type": "display_data"
    },
    {
     "name": "stdout",
     "output_type": "stream",
     "text": [
      "✅ Training completed in 116.50 minutes.\n"
     ]
    }
   ],
   "source": [
    "from onpolicy.scripts.train_mpe import main\n",
    "import contextlib\n",
    "\n",
    "@contextlib.contextmanager\n",
    "def suppress_output():\n",
    "    import os\n",
    "    with open(os.devnull, \"w\") as fnull:\n",
    "        old_stdout = sys.stdout\n",
    "        sys.stdout = fnull\n",
    "        try:\n",
    "            yield\n",
    "        finally:\n",
    "            sys.stdout = old_stdout\n",
    "\n",
    "# Run training silently\n",
    "start = time.time()\n",
    "\n",
    "with suppress_output():\n",
    "    main(sys.argv[1:])  # skip dummy script name\n",
    "\n",
    "print(f\"✅ Training completed in {(time.time() - start)/60:.2f} minutes.\")"
   ]
  }
 ],
 "metadata": {
  "kernelspec": {
   "display_name": "fairmarl39",
   "language": "python",
   "name": "python3"
  },
  "language_info": {
   "codemirror_mode": {
    "name": "ipython",
    "version": 3
   },
   "file_extension": ".py",
   "mimetype": "text/x-python",
   "name": "python",
   "nbconvert_exporter": "python",
   "pygments_lexer": "ipython3",
   "version": "3.9.23"
  },
  "orig_nbformat": 4
 },
 "nbformat": 4,
 "nbformat_minor": 2
}
